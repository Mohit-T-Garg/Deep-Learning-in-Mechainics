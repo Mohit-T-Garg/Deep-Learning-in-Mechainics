{
 "cells": [
  {
   "cell_type": "markdown",
   "id": "2b3851c0",
   "metadata": {},
   "source": [
    "# Problem 2 - Multivariate Regression\n",
    "Housing Price Prediction Problem. Suppose ‘Mr. X’ is planning to buy a house in Delhi and wants to predict the\n",
    "price of the house given some features like number of bedrooms, number of bathrooms, area of the house, etc.\n",
    "The file ’prob2data.csv’ contains a training set of housing prices in Delhi."
   ]
  },
  {
   "cell_type": "markdown",
   "id": "93f69b54",
   "metadata": {},
   "source": [
    "# Imports"
   ]
  },
  {
   "cell_type": "code",
   "execution_count": 6,
   "id": "f062f034",
   "metadata": {},
   "outputs": [],
   "source": [
    "import numpy as np\n",
    "from matplotlib import pyplot as plt\n",
    "import os\n",
    "import pandas as pd\n",
    "plt.rcParams['figure.figsize'] = (10.0, 8.0)"
   ]
  },
  {
   "cell_type": "markdown",
   "id": "473990ae",
   "metadata": {},
   "source": [
    "# Part 1\n",
    "Read the excel file using pandas and perform data cleaning. Remove 1\n",
    "st column ’id’ which may not be\n",
    "necessary here. Perform mean normalization of features."
   ]
  },
  {
   "cell_type": "markdown",
   "id": "d491a25c",
   "metadata": {},
   "source": [
    "# Reading data"
   ]
  },
  {
   "cell_type": "code",
   "execution_count": 7,
   "id": "6a310a00",
   "metadata": {
    "scrolled": true
   },
   "outputs": [
    {
     "data": {
      "text/html": [
       "<div>\n",
       "<style scoped>\n",
       "    .dataframe tbody tr th:only-of-type {\n",
       "        vertical-align: middle;\n",
       "    }\n",
       "\n",
       "    .dataframe tbody tr th {\n",
       "        vertical-align: top;\n",
       "    }\n",
       "\n",
       "    .dataframe thead th {\n",
       "        text-align: right;\n",
       "    }\n",
       "</style>\n",
       "<table border=\"1\" class=\"dataframe\">\n",
       "  <thead>\n",
       "    <tr style=\"text-align: right;\">\n",
       "      <th></th>\n",
       "      <th>id</th>\n",
       "      <th>price</th>\n",
       "      <th>bedrooms</th>\n",
       "      <th>bathrooms</th>\n",
       "      <th>sqft_living</th>\n",
       "      <th>floors</th>\n",
       "      <th>yr_built</th>\n",
       "    </tr>\n",
       "  </thead>\n",
       "  <tbody>\n",
       "    <tr>\n",
       "      <th>0</th>\n",
       "      <td>7129300520</td>\n",
       "      <td>221900.0</td>\n",
       "      <td>3</td>\n",
       "      <td>1.00</td>\n",
       "      <td>1180</td>\n",
       "      <td>1.0</td>\n",
       "      <td>1955</td>\n",
       "    </tr>\n",
       "    <tr>\n",
       "      <th>1</th>\n",
       "      <td>6414100192</td>\n",
       "      <td>538000.0</td>\n",
       "      <td>3</td>\n",
       "      <td>2.25</td>\n",
       "      <td>2570</td>\n",
       "      <td>2.0</td>\n",
       "      <td>1951</td>\n",
       "    </tr>\n",
       "    <tr>\n",
       "      <th>2</th>\n",
       "      <td>5631500400</td>\n",
       "      <td>180000.0</td>\n",
       "      <td>2</td>\n",
       "      <td>1.00</td>\n",
       "      <td>770</td>\n",
       "      <td>1.0</td>\n",
       "      <td>1933</td>\n",
       "    </tr>\n",
       "    <tr>\n",
       "      <th>3</th>\n",
       "      <td>2487200875</td>\n",
       "      <td>604000.0</td>\n",
       "      <td>4</td>\n",
       "      <td>3.00</td>\n",
       "      <td>1960</td>\n",
       "      <td>1.0</td>\n",
       "      <td>1965</td>\n",
       "    </tr>\n",
       "    <tr>\n",
       "      <th>4</th>\n",
       "      <td>1954400510</td>\n",
       "      <td>510000.0</td>\n",
       "      <td>3</td>\n",
       "      <td>2.00</td>\n",
       "      <td>1680</td>\n",
       "      <td>1.0</td>\n",
       "      <td>1987</td>\n",
       "    </tr>\n",
       "  </tbody>\n",
       "</table>\n",
       "</div>"
      ],
      "text/plain": [
       "           id     price  bedrooms  bathrooms  sqft_living  floors  yr_built\n",
       "0  7129300520  221900.0         3       1.00         1180     1.0      1955\n",
       "1  6414100192  538000.0         3       2.25         2570     2.0      1951\n",
       "2  5631500400  180000.0         2       1.00          770     1.0      1933\n",
       "3  2487200875  604000.0         4       3.00         1960     1.0      1965\n",
       "4  1954400510  510000.0         3       2.00         1680     1.0      1987"
      ]
     },
     "execution_count": 7,
     "metadata": {},
     "output_type": "execute_result"
    }
   ],
   "source": [
    "data = pd.read_csv(\"prob2data.csv\")\n",
    "data.head()"
   ]
  },
  {
   "cell_type": "markdown",
   "id": "1b5ea319",
   "metadata": {},
   "source": [
    "# Normalization and editing\n",
    "Removing column 'id' and performing mean normalization"
   ]
  },
  {
   "cell_type": "code",
   "execution_count": 8,
   "id": "fd93d4f8",
   "metadata": {},
   "outputs": [],
   "source": [
    "data = data.drop('id',axis=1)\n",
    "y = np.array(data['price'])\n",
    "X = data.drop('price',axis = 1).values\n",
    "n,m = X.shape\n",
    "\n",
    "means = np.array([X[:,i].mean() for i in range(m)])\n",
    "maxes = np.array([X[:,i].max() for i in range(m)])\n",
    "mins = np.array([X[:,i].min() for i in range(m)])\n",
    "for i in range(m):\n",
    "    X[:,i] = (X[:,i] - means[i])/(maxes[i]-mins[i])\n",
    "X = np.concatenate([np.ones((n,1)),X],axis=1)"
   ]
  },
  {
   "cell_type": "markdown",
   "id": "1722b398",
   "metadata": {},
   "source": [
    "# Part 2\n",
    "Write a Python code to perform multivariate regression to predict the house price. Consider all 5 columns\n",
    "(‘bedrooms’,...,‘yr built’) as features. Implement batch gradient descent for optimization of weights."
   ]
  },
  {
   "cell_type": "code",
   "execution_count": 9,
   "id": "6c445717",
   "metadata": {},
   "outputs": [
    {
     "data": {
      "image/png": "[encoded data removed]",
      "text/plain": [
       "<Figure size 720x576 with 1 Axes>"
      ]
     },
     "metadata": {
      "needs_background": "light"
     },
     "output_type": "display_data"
    }
   ],
   "source": [
    "\n",
    "def cost_function(X,y,w):\n",
    "    m = y.size\n",
    "    h = np.matmul(X,w)\n",
    "    J = np.sum( ( h - y).dot(h-y) )/(2*m)\n",
    "    grad = (np.matmul(h-y,X) )/m\n",
    "    return J,grad\n",
    "\n",
    "n,m = X.shape\n",
    "w = np.random.random((m))\n",
    "alpha = 0.1\n",
    "N = 1000\n",
    "J = []\n",
    "I=[]\n",
    "\n",
    "for i in range(N):\n",
    "    j,grad = cost_function(X,y,w)\n",
    "    if i<N-1:\n",
    "        w = w - alpha*grad\n",
    "    J.append(j)\n",
    "    I.append(i+1)\n",
    "\n",
    "\n",
    "plt.figure()\n",
    "plt.plot(I,J)\n",
    "plt.xlabel(\"Number of iterations \")\n",
    "plt.ylabel(\"Cost function  J(Θ)\")\n",
    "plt.title(\"Batch Gradient Descent\")\n",
    "plt.savefig(\"p2.png\");"
   ]
  },
  {
   "cell_type": "markdown",
   "id": "ef929b92",
   "metadata": {},
   "source": [
    "# Part 3\n",
    "Predict the house price using the model, for 4 bedrooms, 2.5 bathrooms, 2570 sq. feet area, 2 floors, 2005 yr.\n",
    "built, and state the difference between the model prediction and actual value (Rs. 719000). Show in % error.\n"
   ]
  },
  {
   "cell_type": "code",
   "execution_count": 10,
   "id": "7bac9069",
   "metadata": {},
   "outputs": [
    {
     "name": "stdout",
     "output_type": "stream",
     "text": [
      "601009.6646922075\n",
      "% error =  16.41 %\n"
     ]
    }
   ],
   "source": [
    "x_data = np.array([4, 2.5, 2570, 2, 2005])\n",
    "#Normalizing data and get corresponding X for test data\n",
    "x_data = (x_data-means)/(maxes-mins)\n",
    "x_data = np.concatenate([np.ones(1),x_data],axis=0)\n",
    "# Getting prediction of price\n",
    "actual_price = 719000\n",
    "predicted_price = np.matmul(w,x_data)\n",
    "print(predicted_price)\n",
    "#Calculating relative error\n",
    "err = 100*abs(1-predicted_price/actual_price)\n",
    "print(\"% error = \",round(err,2),\"%\")"
   ]
  },
  {
   "cell_type": "code",
   "execution_count": null,
   "id": "51069410",
   "metadata": {},
   "outputs": [],
   "source": []
  }
 ],
 "metadata": {
  "kernelspec": {
   "display_name": "Python 3 (ipykernel)",
   "language": "python",
   "name": "python3"
  },
  "language_info": {
   "codemirror_mode": {
    "name": "ipython",
    "version": 3
   },
   "file_extension": ".py",
   "mimetype": "text/x-python",
   "name": "python",
   "nbconvert_exporter": "python",
   "pygments_lexer": "ipython3",
   "version": "3.9.12"
  }
 },
 "nbformat": 4,
 "nbformat_minor": 5
}
